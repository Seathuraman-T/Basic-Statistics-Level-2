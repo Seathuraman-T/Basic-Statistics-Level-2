{
 "cells": [
  {
   "cell_type": "markdown",
   "id": "95cecbf9",
   "metadata": {
    "ExecuteTime": {
     "end_time": "2023-04-03T15:57:43.381198Z",
     "start_time": "2023-04-03T15:57:38.698563Z"
    }
   },
   "source": [
    "# Set 2 - Q1"
   ]
  },
  {
   "cell_type": "code",
   "execution_count": 212,
   "id": "aef371bf",
   "metadata": {
    "ExecuteTime": {
     "end_time": "2023-04-05T17:46:38.728934Z",
     "start_time": "2023-04-05T17:46:38.707618Z"
    }
   },
   "outputs": [],
   "source": [
    "from scipy import stats\n",
    "from scipy.stats import norm"
   ]
  },
  {
   "cell_type": "code",
   "execution_count": 2,
   "id": "7ff755d3",
   "metadata": {
    "ExecuteTime": {
     "end_time": "2023-04-03T15:57:43.432930Z",
     "start_time": "2023-04-03T15:57:43.386395Z"
    }
   },
   "outputs": [
    {
     "data": {
      "text/plain": [
       "0.26598552904870054"
      ]
     },
     "execution_count": 2,
     "metadata": {},
     "output_type": "execute_result"
    }
   ],
   "source": [
    "1 - stats.norm.cdf(50, 45,8)"
   ]
  },
  {
   "cell_type": "markdown",
   "id": "6bc87c2a",
   "metadata": {
    "ExecuteTime": {
     "end_time": "2023-04-03T15:57:43.450124Z",
     "start_time": "2023-04-03T15:57:43.434499Z"
    }
   },
   "source": [
    "# Set 2 - 2 Question"
   ]
  },
  {
   "cell_type": "code",
   "execution_count": 21,
   "id": "974ae8aa",
   "metadata": {
    "ExecuteTime": {
     "end_time": "2023-04-03T16:02:20.172509Z",
     "start_time": "2023-04-03T16:02:20.152565Z"
    }
   },
   "outputs": [
    {
     "data": {
      "text/plain": [
       "0.15865525393145707"
      ]
     },
     "execution_count": 21,
     "metadata": {},
     "output_type": "execute_result"
    }
   ],
   "source": [
    "1 - stats.norm.cdf(44,38,6)"
   ]
  },
  {
   "cell_type": "code",
   "execution_count": 22,
   "id": "f6913bd9",
   "metadata": {
    "ExecuteTime": {
     "end_time": "2023-04-03T16:02:50.345543Z",
     "start_time": "2023-04-03T16:02:50.324657Z"
    }
   },
   "outputs": [
    {
     "data": {
      "text/plain": [
       "0.3413447460685429"
      ]
     },
     "execution_count": 22,
     "metadata": {},
     "output_type": "execute_result"
    }
   ],
   "source": [
    "stats.norm.cdf(44,38,6)-stats.norm.cdf(38,38,4)"
   ]
  },
  {
   "cell_type": "code",
   "execution_count": 24,
   "id": "0f696e09",
   "metadata": {
    "ExecuteTime": {
     "end_time": "2023-04-03T16:06:55.797710Z",
     "start_time": "2023-04-03T16:06:55.779754Z"
    }
   },
   "outputs": [],
   "source": [
    "expt = stats.norm.cdf(30,38,6)"
   ]
  },
  {
   "cell_type": "code",
   "execution_count": 25,
   "id": "81d27040",
   "metadata": {
    "ExecuteTime": {
     "end_time": "2023-04-03T16:06:59.988398Z",
     "start_time": "2023-04-03T16:06:59.972775Z"
    }
   },
   "outputs": [
    {
     "data": {
      "text/plain": [
       "0.09121121972586788"
      ]
     },
     "execution_count": 25,
     "metadata": {},
     "output_type": "execute_result"
    }
   ],
   "source": [
    "expt"
   ]
  },
  {
   "cell_type": "code",
   "execution_count": 26,
   "id": "1a8528a8",
   "metadata": {
    "ExecuteTime": {
     "end_time": "2023-04-03T16:07:09.116141Z",
     "start_time": "2023-04-03T16:07:09.104169Z"
    }
   },
   "outputs": [
    {
     "data": {
      "text/plain": [
       "36.484487890347154"
      ]
     },
     "execution_count": 26,
     "metadata": {},
     "output_type": "execute_result"
    }
   ],
   "source": [
    "400*expt"
   ]
  },
  {
   "cell_type": "markdown",
   "id": "f587cbd4",
   "metadata": {
    "ExecuteTime": {
     "end_time": "2023-04-03T16:49:12.399881Z",
     "start_time": "2023-04-03T16:49:12.323839Z"
    }
   },
   "source": [
    "# Set 2 - 4 Question"
   ]
  },
  {
   "cell_type": "code",
   "execution_count": 28,
   "id": "42a4ec4a",
   "metadata": {
    "ExecuteTime": {
     "end_time": "2023-04-03T16:49:32.574890Z",
     "start_time": "2023-04-03T16:49:32.513111Z"
    }
   },
   "outputs": [
    {
     "data": {
      "text/plain": [
       "(48.48341392902199, 151.516586070978)"
      ]
     },
     "execution_count": 28,
     "metadata": {},
     "output_type": "execute_result"
    }
   ],
   "source": [
    "stats.norm.interval(.99, 100, 20)"
   ]
  },
  {
   "cell_type": "markdown",
   "id": "73aa2e4c",
   "metadata": {
    "ExecuteTime": {
     "end_time": "2023-04-03T16:59:56.737351Z",
     "start_time": "2023-04-03T16:59:56.718916Z"
    }
   },
   "source": [
    "# Set 2 - 5 Question"
   ]
  },
  {
   "cell_type": "code",
   "execution_count": 31,
   "id": "7334a646",
   "metadata": {
    "ExecuteTime": {
     "end_time": "2023-04-03T17:00:36.648680Z",
     "start_time": "2023-04-03T17:00:36.641084Z"
    }
   },
   "outputs": [],
   "source": [
    "mn = 5+7"
   ]
  },
  {
   "cell_type": "code",
   "execution_count": 32,
   "id": "ecc7a750",
   "metadata": {
    "ExecuteTime": {
     "end_time": "2023-04-03T17:00:45.213593Z",
     "start_time": "2023-04-03T17:00:45.208370Z"
    }
   },
   "outputs": [],
   "source": [
    "mean = mn*45"
   ]
  },
  {
   "cell_type": "code",
   "execution_count": 33,
   "id": "39d3aeab",
   "metadata": {
    "ExecuteTime": {
     "end_time": "2023-04-03T17:00:47.862659Z",
     "start_time": "2023-04-03T17:00:47.848318Z"
    }
   },
   "outputs": [
    {
     "data": {
      "text/plain": [
       "540"
      ]
     },
     "execution_count": 33,
     "metadata": {},
     "output_type": "execute_result"
    }
   ],
   "source": [
    "mean"
   ]
  },
  {
   "cell_type": "code",
   "execution_count": 34,
   "id": "ae937e8c",
   "metadata": {
    "ExecuteTime": {
     "end_time": "2023-04-03T17:01:53.038117Z",
     "start_time": "2023-04-03T17:01:53.019821Z"
    }
   },
   "outputs": [],
   "source": [
    "import numpy as np"
   ]
  },
  {
   "cell_type": "code",
   "execution_count": 36,
   "id": "9f7f1bcc",
   "metadata": {
    "ExecuteTime": {
     "end_time": "2023-04-03T17:02:28.493462Z",
     "start_time": "2023-04-03T17:02:28.474886Z"
    }
   },
   "outputs": [],
   "source": [
    "sd_val = np.sqrt(9+16)"
   ]
  },
  {
   "cell_type": "code",
   "execution_count": 39,
   "id": "5b10b155",
   "metadata": {
    "ExecuteTime": {
     "end_time": "2023-04-03T17:03:08.214993Z",
     "start_time": "2023-04-03T17:03:08.209314Z"
    }
   },
   "outputs": [],
   "source": [
    "sd = sd_val*45"
   ]
  },
  {
   "cell_type": "code",
   "execution_count": 40,
   "id": "10d9745f",
   "metadata": {
    "ExecuteTime": {
     "end_time": "2023-04-03T17:03:12.403217Z",
     "start_time": "2023-04-03T17:03:12.396075Z"
    }
   },
   "outputs": [
    {
     "data": {
      "text/plain": [
       "225.0"
      ]
     },
     "execution_count": 40,
     "metadata": {},
     "output_type": "execute_result"
    }
   ],
   "source": [
    "sd"
   ]
  },
  {
   "cell_type": "code",
   "execution_count": 41,
   "id": "db6e8761",
   "metadata": {
    "ExecuteTime": {
     "end_time": "2023-04-03T17:03:37.338630Z",
     "start_time": "2023-04-03T17:03:37.318549Z"
    }
   },
   "outputs": [
    {
     "data": {
      "text/plain": [
       "(99.00810347848784, 980.9918965215122)"
      ]
     },
     "execution_count": 41,
     "metadata": {},
     "output_type": "execute_result"
    }
   ],
   "source": [
    "stats.norm.interval(.95,540,225)"
   ]
  },
  {
   "cell_type": "code",
   "execution_count": 44,
   "id": "5b3896c6",
   "metadata": {
    "ExecuteTime": {
     "end_time": "2023-04-03T17:06:47.651562Z",
     "start_time": "2023-04-03T17:06:47.644832Z"
    }
   },
   "outputs": [],
   "source": [
    "per_fifth = 540+(-1.645)*225"
   ]
  },
  {
   "cell_type": "code",
   "execution_count": 45,
   "id": "ec0f909f",
   "metadata": {
    "ExecuteTime": {
     "end_time": "2023-04-03T17:06:51.367146Z",
     "start_time": "2023-04-03T17:06:51.351476Z"
    }
   },
   "outputs": [
    {
     "data": {
      "text/plain": [
       "169.875"
      ]
     },
     "execution_count": 45,
     "metadata": {},
     "output_type": "execute_result"
    }
   ],
   "source": [
    "per_fifth"
   ]
  },
  {
   "cell_type": "code",
   "execution_count": 52,
   "id": "7f70b917",
   "metadata": {
    "ExecuteTime": {
     "end_time": "2023-04-03T17:09:34.179827Z",
     "start_time": "2023-04-03T17:09:34.156556Z"
    }
   },
   "outputs": [
    {
     "data": {
      "text/plain": [
       "0.0477903522728147"
      ]
     },
     "execution_count": 52,
     "metadata": {},
     "output_type": "execute_result"
    }
   ],
   "source": [
    "stats.norm.cdf(0,5,3)"
   ]
  },
  {
   "cell_type": "code",
   "execution_count": 53,
   "id": "172b549e",
   "metadata": {
    "ExecuteTime": {
     "end_time": "2023-04-03T17:09:37.813329Z",
     "start_time": "2023-04-03T17:09:37.785744Z"
    }
   },
   "outputs": [
    {
     "data": {
      "text/plain": [
       "0.040059156863817086"
      ]
     },
     "execution_count": 53,
     "metadata": {},
     "output_type": "execute_result"
    }
   ],
   "source": [
    "stats.norm.cdf(0,7,4)"
   ]
  },
  {
   "cell_type": "markdown",
   "id": "20da1cd2",
   "metadata": {
    "ExecuteTime": {
     "end_time": "2023-04-04T15:25:34.703768Z",
     "start_time": "2023-04-04T15:25:34.510332Z"
    }
   },
   "source": [
    "# Set 3 - 5 Question"
   ]
  },
  {
   "cell_type": "code",
   "execution_count": 55,
   "id": "e5d003b1",
   "metadata": {
    "ExecuteTime": {
     "end_time": "2023-04-04T15:26:16.188900Z",
     "start_time": "2023-04-04T15:26:16.170924Z"
    }
   },
   "outputs": [],
   "source": [
    "# Z Score = p_hat-p/p(1-p)/n)**0.05"
   ]
  },
  {
   "cell_type": "code",
   "execution_count": 65,
   "id": "ed76bb87",
   "metadata": {
    "ExecuteTime": {
     "end_time": "2023-04-04T15:56:31.988667Z",
     "start_time": "2023-04-04T15:56:31.980661Z"
    }
   },
   "outputs": [],
   "source": [
    "phat = 0.046\n",
    "p = 0.05\n",
    "n = 2000"
   ]
  },
  {
   "cell_type": "code",
   "execution_count": 72,
   "id": "e4dba794",
   "metadata": {
    "ExecuteTime": {
     "end_time": "2023-04-04T15:58:36.368187Z",
     "start_time": "2023-04-04T15:58:36.358214Z"
    }
   },
   "outputs": [],
   "source": [
    "zscore = (phat-p)/(np.sqrt((p*(1-p))/2000))"
   ]
  },
  {
   "cell_type": "code",
   "execution_count": 73,
   "id": "50f5877b",
   "metadata": {
    "ExecuteTime": {
     "end_time": "2023-04-04T15:58:36.687722Z",
     "start_time": "2023-04-04T15:58:36.671859Z"
    }
   },
   "outputs": [
    {
     "data": {
      "text/plain": [
       "-0.820782681668124"
      ]
     },
     "execution_count": 73,
     "metadata": {},
     "output_type": "execute_result"
    }
   ],
   "source": [
    "zscore"
   ]
  },
  {
   "cell_type": "code",
   "execution_count": 76,
   "id": "3f0b8616",
   "metadata": {
    "ExecuteTime": {
     "end_time": "2023-04-04T16:12:38.316436Z",
     "start_time": "2023-04-04T16:12:38.287486Z"
    }
   },
   "outputs": [],
   "source": [
    "p_val = stats.norm.cdf(zscore)"
   ]
  },
  {
   "cell_type": "code",
   "execution_count": 77,
   "id": "ff9997ec",
   "metadata": {
    "ExecuteTime": {
     "end_time": "2023-04-04T16:12:38.652100Z",
     "start_time": "2023-04-04T16:12:38.621842Z"
    }
   },
   "outputs": [
    {
     "data": {
      "text/plain": [
       "0.20588503245107104"
      ]
     },
     "execution_count": 77,
     "metadata": {},
     "output_type": "execute_result"
    }
   ],
   "source": [
    "p_val"
   ]
  },
  {
   "cell_type": "markdown",
   "id": "7b760772",
   "metadata": {
    "ExecuteTime": {
     "end_time": "2023-04-05T17:41:48.504693Z",
     "start_time": "2023-04-05T17:41:48.487741Z"
    }
   },
   "source": [
    "# Set - 3 Q8 & Q9"
   ]
  },
  {
   "cell_type": "code",
   "execution_count": 207,
   "id": "1d5b155e",
   "metadata": {
    "ExecuteTime": {
     "end_time": "2023-04-05T17:41:26.546004Z",
     "start_time": "2023-04-05T17:41:26.527086Z"
    }
   },
   "outputs": [],
   "source": [
    "n = ((1.96)**2)*(0.5)*(0.5)/(0.04)**2"
   ]
  },
  {
   "cell_type": "code",
   "execution_count": 208,
   "id": "e6cabac8",
   "metadata": {
    "ExecuteTime": {
     "end_time": "2023-04-05T17:41:26.607521Z",
     "start_time": "2023-04-05T17:41:26.584581Z"
    }
   },
   "outputs": [
    {
     "data": {
      "text/plain": [
       "600.2499999999999"
      ]
     },
     "execution_count": 208,
     "metadata": {},
     "output_type": "execute_result"
    }
   ],
   "source": [
    "n"
   ]
  },
  {
   "cell_type": "code",
   "execution_count": 209,
   "id": "c3e583d8",
   "metadata": {
    "ExecuteTime": {
     "end_time": "2023-04-05T17:41:26.796010Z",
     "start_time": "2023-04-05T17:41:26.781408Z"
    }
   },
   "outputs": [],
   "source": [
    "n1 = ((2.326)**2)*(0.5)*(0.5)/(0.04)**2"
   ]
  },
  {
   "cell_type": "code",
   "execution_count": 210,
   "id": "fabc5897",
   "metadata": {
    "ExecuteTime": {
     "end_time": "2023-04-05T17:41:27.341090Z",
     "start_time": "2023-04-05T17:41:27.318148Z"
    }
   },
   "outputs": [
    {
     "data": {
      "text/plain": [
       "845.355625"
      ]
     },
     "execution_count": 210,
     "metadata": {},
     "output_type": "execute_result"
    }
   ],
   "source": [
    "n1"
   ]
  },
  {
   "cell_type": "markdown",
   "id": "b5890354",
   "metadata": {
    "ExecuteTime": {
     "end_time": "2023-04-05T17:22:59.088341Z",
     "start_time": "2023-04-05T17:22:59.072381Z"
    }
   },
   "source": [
    "# Set-4 Q2(ii)"
   ]
  },
  {
   "cell_type": "code",
   "execution_count": 188,
   "id": "21b9b57a",
   "metadata": {
    "ExecuteTime": {
     "end_time": "2023-04-05T17:22:06.705090Z",
     "start_time": "2023-04-05T17:22:06.685143Z"
    }
   },
   "outputs": [],
   "source": [
    "SE = 5/np.sqrt(25)"
   ]
  },
  {
   "cell_type": "code",
   "execution_count": 189,
   "id": "e2ffded3",
   "metadata": {
    "ExecuteTime": {
     "end_time": "2023-04-05T17:22:07.101120Z",
     "start_time": "2023-04-05T17:22:07.085880Z"
    }
   },
   "outputs": [
    {
     "data": {
      "text/plain": [
       "1.0"
      ]
     },
     "execution_count": 189,
     "metadata": {},
     "output_type": "execute_result"
    }
   ],
   "source": [
    "SE"
   ]
  },
  {
   "cell_type": "markdown",
   "id": "feb2c926",
   "metadata": {
    "ExecuteTime": {
     "end_time": "2023-04-05T15:48:08.322122Z",
     "start_time": "2023-04-05T15:48:08.199109Z"
    }
   },
   "source": [
    "# 3 Question"
   ]
  },
  {
   "cell_type": "code",
   "execution_count": 102,
   "id": "7139f484",
   "metadata": {
    "ExecuteTime": {
     "end_time": "2023-04-05T15:51:50.455708Z",
     "start_time": "2023-04-05T15:51:50.435763Z"
    }
   },
   "outputs": [],
   "source": [
    "# population = 100, mu = 50 and sd = 40\n",
    "\n",
    "# sample = 45 and 55 = no investigation\n",
    "\n",
    "# 1 - no investigation = probability of investigation"
   ]
  },
  {
   "cell_type": "code",
   "execution_count": 107,
   "id": "c403e491",
   "metadata": {
    "ExecuteTime": {
     "end_time": "2023-04-05T15:54:08.146506Z",
     "start_time": "2023-04-05T15:54:08.134535Z"
    }
   },
   "outputs": [],
   "source": [
    "z1 = (45-50)/(40/100**.5)"
   ]
  },
  {
   "cell_type": "code",
   "execution_count": 108,
   "id": "9267a2c5",
   "metadata": {
    "ExecuteTime": {
     "end_time": "2023-04-05T15:54:09.046502Z",
     "start_time": "2023-04-05T15:54:09.033529Z"
    }
   },
   "outputs": [
    {
     "data": {
      "text/plain": [
       "-1.25"
      ]
     },
     "execution_count": 108,
     "metadata": {},
     "output_type": "execute_result"
    }
   ],
   "source": [
    "z1"
   ]
  },
  {
   "cell_type": "code",
   "execution_count": 109,
   "id": "7ce6de96",
   "metadata": {
    "ExecuteTime": {
     "end_time": "2023-04-05T15:54:38.109481Z",
     "start_time": "2023-04-05T15:54:38.093601Z"
    }
   },
   "outputs": [],
   "source": [
    "z = (55-50)/(40/100**.5)"
   ]
  },
  {
   "cell_type": "code",
   "execution_count": 110,
   "id": "62e0ed82",
   "metadata": {
    "ExecuteTime": {
     "end_time": "2023-04-05T15:54:40.473909Z",
     "start_time": "2023-04-05T15:54:40.458286Z"
    }
   },
   "outputs": [
    {
     "data": {
      "text/plain": [
       "1.25"
      ]
     },
     "execution_count": 110,
     "metadata": {},
     "output_type": "execute_result"
    }
   ],
   "source": [
    "z"
   ]
  },
  {
   "cell_type": "code",
   "execution_count": 114,
   "id": "964a2c32",
   "metadata": {
    "ExecuteTime": {
     "end_time": "2023-04-05T15:56:29.360698Z",
     "start_time": "2023-04-05T15:56:29.344743Z"
    }
   },
   "outputs": [],
   "source": [
    "no_invest = stats.norm.cdf(1.25)-stats.norm.cdf(-1.25)"
   ]
  },
  {
   "cell_type": "code",
   "execution_count": 115,
   "id": "595140a9",
   "metadata": {
    "ExecuteTime": {
     "end_time": "2023-04-05T15:56:33.193682Z",
     "start_time": "2023-04-05T15:56:33.180710Z"
    }
   },
   "outputs": [
    {
     "data": {
      "text/plain": [
       "0.7887004526662893"
      ]
     },
     "execution_count": 115,
     "metadata": {},
     "output_type": "execute_result"
    }
   ],
   "source": [
    "no_invest"
   ]
  },
  {
   "cell_type": "code",
   "execution_count": 117,
   "id": "2d3a1364",
   "metadata": {
    "ExecuteTime": {
     "end_time": "2023-04-05T15:56:51.085835Z",
     "start_time": "2023-04-05T15:56:51.066859Z"
    }
   },
   "outputs": [],
   "source": [
    "prob = 1-no_invest"
   ]
  },
  {
   "cell_type": "code",
   "execution_count": 119,
   "id": "56a4aac7",
   "metadata": {
    "ExecuteTime": {
     "end_time": "2023-04-05T15:57:11.081430Z",
     "start_time": "2023-04-05T15:57:11.059465Z"
    }
   },
   "outputs": [
    {
     "data": {
      "text/plain": [
       "21.129954733371072"
      ]
     },
     "execution_count": 119,
     "metadata": {},
     "output_type": "execute_result"
    }
   ],
   "source": [
    "prob*100"
   ]
  },
  {
   "cell_type": "markdown",
   "id": "336b2386",
   "metadata": {
    "ExecuteTime": {
     "end_time": "2023-04-05T16:00:30.508259Z",
     "start_time": "2023-04-05T16:00:30.500313Z"
    }
   },
   "source": [
    "# 4 Question"
   ]
  },
  {
   "cell_type": "code",
   "execution_count": 138,
   "id": "f6cb0710",
   "metadata": {
    "ExecuteTime": {
     "end_time": "2023-04-05T16:45:54.814737Z",
     "start_time": "2023-04-05T16:45:54.795789Z"
    }
   },
   "outputs": [],
   "source": [
    "#1.96 = 5/40/sqrt(n)"
   ]
  },
  {
   "cell_type": "code",
   "execution_count": 158,
   "id": "56b3f0ea",
   "metadata": {
    "ExecuteTime": {
     "end_time": "2023-04-05T16:58:39.328583Z",
     "start_time": "2023-04-05T16:58:39.319609Z"
    }
   },
   "outputs": [],
   "source": [
    "#1.96 = 5*sqrt(n)/40"
   ]
  },
  {
   "cell_type": "code",
   "execution_count": 161,
   "id": "fd6dd1a2",
   "metadata": {
    "ExecuteTime": {
     "end_time": "2023-04-05T16:59:56.961532Z",
     "start_time": "2023-04-05T16:59:56.952555Z"
    }
   },
   "outputs": [],
   "source": [
    "#sqrt (n) = ((1.96)*40)/5"
   ]
  },
  {
   "cell_type": "code",
   "execution_count": 169,
   "id": "e598a17a",
   "metadata": {
    "ExecuteTime": {
     "end_time": "2023-04-05T17:01:56.218112Z",
     "start_time": "2023-04-05T17:01:56.199164Z"
    }
   },
   "outputs": [],
   "source": [
    "# squaring on both sides"
   ]
  },
  {
   "cell_type": "code",
   "execution_count": 170,
   "id": "da1e90ff",
   "metadata": {
    "ExecuteTime": {
     "end_time": "2023-04-05T17:01:56.691117Z",
     "start_time": "2023-04-05T17:01:56.658439Z"
    }
   },
   "outputs": [],
   "source": [
    "n = (((1.96)*40)/5)**2"
   ]
  },
  {
   "cell_type": "code",
   "execution_count": 171,
   "id": "0100a53a",
   "metadata": {
    "ExecuteTime": {
     "end_time": "2023-04-05T17:01:57.160720Z",
     "start_time": "2023-04-05T17:01:57.144762Z"
    }
   },
   "outputs": [
    {
     "data": {
      "text/plain": [
       "245.86240000000004"
      ]
     },
     "execution_count": 171,
     "metadata": {},
     "output_type": "execute_result"
    }
   ],
   "source": [
    "n"
   ]
  },
  {
   "cell_type": "markdown",
   "id": "675ace90",
   "metadata": {
    "ExecuteTime": {
     "end_time": "2023-04-05T17:24:07.238773Z",
     "start_time": "2023-04-05T17:24:07.223148Z"
    }
   },
   "source": [
    "# 5 Question"
   ]
  },
  {
   "cell_type": "code",
   "execution_count": 193,
   "id": "7885c09b",
   "metadata": {
    "ExecuteTime": {
     "end_time": "2023-04-05T17:24:21.789447Z",
     "start_time": "2023-04-05T17:24:21.769500Z"
    }
   },
   "outputs": [],
   "source": [
    "sig_error = 120/np.sqrt(40000)"
   ]
  },
  {
   "cell_type": "code",
   "execution_count": 194,
   "id": "3430e3dd",
   "metadata": {
    "ExecuteTime": {
     "end_time": "2023-04-05T17:24:22.967743Z",
     "start_time": "2023-04-05T17:24:22.951986Z"
    }
   },
   "outputs": [
    {
     "data": {
      "text/plain": [
       "0.6"
      ]
     },
     "execution_count": 194,
     "metadata": {},
     "output_type": "execute_result"
    }
   ],
   "source": [
    "sig_error"
   ]
  }
 ],
 "metadata": {
  "kernelspec": {
   "display_name": "Python 3 (ipykernel)",
   "language": "python",
   "name": "python3"
  },
  "language_info": {
   "codemirror_mode": {
    "name": "ipython",
    "version": 3
   },
   "file_extension": ".py",
   "mimetype": "text/x-python",
   "name": "python",
   "nbconvert_exporter": "python",
   "pygments_lexer": "ipython3",
   "version": "3.9.12"
  }
 },
 "nbformat": 4,
 "nbformat_minor": 5
}
